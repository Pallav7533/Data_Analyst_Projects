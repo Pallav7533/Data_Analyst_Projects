{
 "cells": [
  {
   "cell_type": "code",
   "execution_count": 1,
   "id": "a6882ae7",
   "metadata": {},
   "outputs": [],
   "source": [
    "import pandas as pd\n",
    "from scipy.stats import ttest_ind"
   ]
  },
  {
   "cell_type": "code",
   "execution_count": 2,
   "id": "a5c7e103",
   "metadata": {},
   "outputs": [],
   "source": [
    "df = pd.read_csv('data.csv')"
   ]
  },
  {
   "cell_type": "code",
   "execution_count": 3,
   "id": "2dad5902",
   "metadata": {},
   "outputs": [
    {
     "data": {
      "text/html": [
       "<div>\n",
       "<style scoped>\n",
       "    .dataframe tbody tr th:only-of-type {\n",
       "        vertical-align: middle;\n",
       "    }\n",
       "\n",
       "    .dataframe tbody tr th {\n",
       "        vertical-align: top;\n",
       "    }\n",
       "\n",
       "    .dataframe thead th {\n",
       "        text-align: right;\n",
       "    }\n",
       "</style>\n",
       "<table border=\"1\" class=\"dataframe\">\n",
       "  <thead>\n",
       "    <tr style=\"text-align: right;\">\n",
       "      <th></th>\n",
       "      <th>Theme</th>\n",
       "      <th>Click Through Rate</th>\n",
       "      <th>Conversion Rate</th>\n",
       "      <th>Bounce Rate</th>\n",
       "      <th>Scroll_Depth</th>\n",
       "      <th>Age</th>\n",
       "      <th>Location</th>\n",
       "      <th>Session_Duration</th>\n",
       "      <th>Purchases</th>\n",
       "      <th>Added_to_Cart</th>\n",
       "    </tr>\n",
       "  </thead>\n",
       "  <tbody>\n",
       "    <tr>\n",
       "      <th>0</th>\n",
       "      <td>Light Theme</td>\n",
       "      <td>0.054920</td>\n",
       "      <td>0.282367</td>\n",
       "      <td>0.405085</td>\n",
       "      <td>72.489458</td>\n",
       "      <td>25</td>\n",
       "      <td>Chennai</td>\n",
       "      <td>1535</td>\n",
       "      <td>No</td>\n",
       "      <td>Yes</td>\n",
       "    </tr>\n",
       "    <tr>\n",
       "      <th>1</th>\n",
       "      <td>Light Theme</td>\n",
       "      <td>0.113932</td>\n",
       "      <td>0.032973</td>\n",
       "      <td>0.732759</td>\n",
       "      <td>61.858568</td>\n",
       "      <td>19</td>\n",
       "      <td>Pune</td>\n",
       "      <td>303</td>\n",
       "      <td>No</td>\n",
       "      <td>Yes</td>\n",
       "    </tr>\n",
       "    <tr>\n",
       "      <th>2</th>\n",
       "      <td>Dark Theme</td>\n",
       "      <td>0.323352</td>\n",
       "      <td>0.178763</td>\n",
       "      <td>0.296543</td>\n",
       "      <td>45.737376</td>\n",
       "      <td>47</td>\n",
       "      <td>Chennai</td>\n",
       "      <td>563</td>\n",
       "      <td>Yes</td>\n",
       "      <td>Yes</td>\n",
       "    </tr>\n",
       "    <tr>\n",
       "      <th>3</th>\n",
       "      <td>Light Theme</td>\n",
       "      <td>0.485836</td>\n",
       "      <td>0.325225</td>\n",
       "      <td>0.245001</td>\n",
       "      <td>76.305298</td>\n",
       "      <td>58</td>\n",
       "      <td>Pune</td>\n",
       "      <td>385</td>\n",
       "      <td>Yes</td>\n",
       "      <td>No</td>\n",
       "    </tr>\n",
       "    <tr>\n",
       "      <th>4</th>\n",
       "      <td>Light Theme</td>\n",
       "      <td>0.034783</td>\n",
       "      <td>0.196766</td>\n",
       "      <td>0.765100</td>\n",
       "      <td>48.927407</td>\n",
       "      <td>25</td>\n",
       "      <td>New Delhi</td>\n",
       "      <td>1437</td>\n",
       "      <td>No</td>\n",
       "      <td>No</td>\n",
       "    </tr>\n",
       "  </tbody>\n",
       "</table>\n",
       "</div>"
      ],
      "text/plain": [
       "         Theme  Click Through Rate  Conversion Rate  Bounce Rate  \\\n",
       "0  Light Theme            0.054920         0.282367     0.405085   \n",
       "1  Light Theme            0.113932         0.032973     0.732759   \n",
       "2   Dark Theme            0.323352         0.178763     0.296543   \n",
       "3  Light Theme            0.485836         0.325225     0.245001   \n",
       "4  Light Theme            0.034783         0.196766     0.765100   \n",
       "\n",
       "   Scroll_Depth  Age   Location  Session_Duration Purchases Added_to_Cart  \n",
       "0     72.489458   25    Chennai              1535        No           Yes  \n",
       "1     61.858568   19       Pune               303        No           Yes  \n",
       "2     45.737376   47    Chennai               563       Yes           Yes  \n",
       "3     76.305298   58       Pune               385       Yes            No  \n",
       "4     48.927407   25  New Delhi              1437        No            No  "
      ]
     },
     "execution_count": 3,
     "metadata": {},
     "output_type": "execute_result"
    }
   ],
   "source": [
    "df.head()"
   ]
  },
  {
   "cell_type": "code",
   "execution_count": 4,
   "id": "bc3c496f",
   "metadata": {},
   "outputs": [
    {
     "data": {
      "text/plain": [
       "1000"
      ]
     },
     "execution_count": 4,
     "metadata": {},
     "output_type": "execute_result"
    }
   ],
   "source": [
    "df.shape[0]"
   ]
  },
  {
   "cell_type": "code",
   "execution_count": 5,
   "id": "5ca1dfda",
   "metadata": {},
   "outputs": [
    {
     "data": {
      "text/html": [
       "<div>\n",
       "<style scoped>\n",
       "    .dataframe tbody tr th:only-of-type {\n",
       "        vertical-align: middle;\n",
       "    }\n",
       "\n",
       "    .dataframe tbody tr th {\n",
       "        vertical-align: top;\n",
       "    }\n",
       "\n",
       "    .dataframe thead th {\n",
       "        text-align: right;\n",
       "    }\n",
       "</style>\n",
       "<table border=\"1\" class=\"dataframe\">\n",
       "  <thead>\n",
       "    <tr style=\"text-align: right;\">\n",
       "      <th></th>\n",
       "      <th>Click Through Rate</th>\n",
       "      <th>Conversion Rate</th>\n",
       "      <th>Bounce Rate</th>\n",
       "      <th>Scroll_Depth</th>\n",
       "      <th>Age</th>\n",
       "      <th>Session_Duration</th>\n",
       "    </tr>\n",
       "  </thead>\n",
       "  <tbody>\n",
       "    <tr>\n",
       "      <th>count</th>\n",
       "      <td>1000.000000</td>\n",
       "      <td>1000.000000</td>\n",
       "      <td>1000.000000</td>\n",
       "      <td>1000.000000</td>\n",
       "      <td>1000.000000</td>\n",
       "      <td>1000.000000</td>\n",
       "    </tr>\n",
       "    <tr>\n",
       "      <th>mean</th>\n",
       "      <td>0.256048</td>\n",
       "      <td>0.253312</td>\n",
       "      <td>0.505758</td>\n",
       "      <td>50.319494</td>\n",
       "      <td>41.528000</td>\n",
       "      <td>924.999000</td>\n",
       "    </tr>\n",
       "    <tr>\n",
       "      <th>std</th>\n",
       "      <td>0.139265</td>\n",
       "      <td>0.139092</td>\n",
       "      <td>0.172195</td>\n",
       "      <td>16.895269</td>\n",
       "      <td>14.114334</td>\n",
       "      <td>508.231723</td>\n",
       "    </tr>\n",
       "    <tr>\n",
       "      <th>min</th>\n",
       "      <td>0.010767</td>\n",
       "      <td>0.010881</td>\n",
       "      <td>0.200720</td>\n",
       "      <td>20.011738</td>\n",
       "      <td>18.000000</td>\n",
       "      <td>38.000000</td>\n",
       "    </tr>\n",
       "    <tr>\n",
       "      <th>25%</th>\n",
       "      <td>0.140794</td>\n",
       "      <td>0.131564</td>\n",
       "      <td>0.353609</td>\n",
       "      <td>35.655167</td>\n",
       "      <td>29.000000</td>\n",
       "      <td>466.500000</td>\n",
       "    </tr>\n",
       "    <tr>\n",
       "      <th>50%</th>\n",
       "      <td>0.253715</td>\n",
       "      <td>0.252823</td>\n",
       "      <td>0.514049</td>\n",
       "      <td>51.130712</td>\n",
       "      <td>42.000000</td>\n",
       "      <td>931.000000</td>\n",
       "    </tr>\n",
       "    <tr>\n",
       "      <th>75%</th>\n",
       "      <td>0.370674</td>\n",
       "      <td>0.373040</td>\n",
       "      <td>0.648557</td>\n",
       "      <td>64.666258</td>\n",
       "      <td>54.000000</td>\n",
       "      <td>1375.250000</td>\n",
       "    </tr>\n",
       "    <tr>\n",
       "      <th>max</th>\n",
       "      <td>0.499989</td>\n",
       "      <td>0.498916</td>\n",
       "      <td>0.799658</td>\n",
       "      <td>79.997108</td>\n",
       "      <td>65.000000</td>\n",
       "      <td>1797.000000</td>\n",
       "    </tr>\n",
       "  </tbody>\n",
       "</table>\n",
       "</div>"
      ],
      "text/plain": [
       "       Click Through Rate  Conversion Rate  Bounce Rate  Scroll_Depth  \\\n",
       "count         1000.000000      1000.000000  1000.000000   1000.000000   \n",
       "mean             0.256048         0.253312     0.505758     50.319494   \n",
       "std              0.139265         0.139092     0.172195     16.895269   \n",
       "min              0.010767         0.010881     0.200720     20.011738   \n",
       "25%              0.140794         0.131564     0.353609     35.655167   \n",
       "50%              0.253715         0.252823     0.514049     51.130712   \n",
       "75%              0.370674         0.373040     0.648557     64.666258   \n",
       "max              0.499989         0.498916     0.799658     79.997108   \n",
       "\n",
       "               Age  Session_Duration  \n",
       "count  1000.000000       1000.000000  \n",
       "mean     41.528000        924.999000  \n",
       "std      14.114334        508.231723  \n",
       "min      18.000000         38.000000  \n",
       "25%      29.000000        466.500000  \n",
       "50%      42.000000        931.000000  \n",
       "75%      54.000000       1375.250000  \n",
       "max      65.000000       1797.000000  "
      ]
     },
     "execution_count": 5,
     "metadata": {},
     "output_type": "execute_result"
    }
   ],
   "source": [
    "df.describe()"
   ]
  },
  {
   "cell_type": "code",
   "execution_count": 6,
   "id": "041bb978",
   "metadata": {},
   "outputs": [
    {
     "data": {
      "text/plain": [
       "Theme                 0\n",
       "Click Through Rate    0\n",
       "Conversion Rate       0\n",
       "Bounce Rate           0\n",
       "Scroll_Depth          0\n",
       "Age                   0\n",
       "Location              0\n",
       "Session_Duration      0\n",
       "Purchases             0\n",
       "Added_to_Cart         0\n",
       "dtype: int64"
      ]
     },
     "execution_count": 6,
     "metadata": {},
     "output_type": "execute_result"
    }
   ],
   "source": [
    "df.isnull().sum()"
   ]
  },
  {
   "cell_type": "code",
   "execution_count": 7,
   "id": "315f601f",
   "metadata": {},
   "outputs": [
    {
     "data": {
      "text/plain": [
       "10"
      ]
     },
     "execution_count": 7,
     "metadata": {},
     "output_type": "execute_result"
    }
   ],
   "source": [
    "df.shape[1]"
   ]
  },
  {
   "cell_type": "code",
   "execution_count": 8,
   "id": "89901347",
   "metadata": {},
   "outputs": [
    {
     "name": "stderr",
     "output_type": "stream",
     "text": [
      "C:\\Users\\U.S\\AppData\\Local\\Temp\\ipykernel_400\\1295504634.py:1: FutureWarning: The default value of numeric_only in DataFrameGroupBy.mean is deprecated. In a future version, numeric_only will default to False. Either specify numeric_only or select only columns which should be valid for the function.\n",
      "  theme_performance = df.groupby('Theme').mean()\n"
     ]
    }
   ],
   "source": [
    "theme_performance = df.groupby('Theme').mean()"
   ]
  },
  {
   "cell_type": "code",
   "execution_count": 10,
   "id": "bc88493a",
   "metadata": {},
   "outputs": [
    {
     "data": {
      "text/html": [
       "<div>\n",
       "<style scoped>\n",
       "    .dataframe tbody tr th:only-of-type {\n",
       "        vertical-align: middle;\n",
       "    }\n",
       "\n",
       "    .dataframe tbody tr th {\n",
       "        vertical-align: top;\n",
       "    }\n",
       "\n",
       "    .dataframe thead th {\n",
       "        text-align: right;\n",
       "    }\n",
       "</style>\n",
       "<table border=\"1\" class=\"dataframe\">\n",
       "  <thead>\n",
       "    <tr style=\"text-align: right;\">\n",
       "      <th></th>\n",
       "      <th>Click Through Rate</th>\n",
       "      <th>Conversion Rate</th>\n",
       "      <th>Bounce Rate</th>\n",
       "      <th>Scroll_Depth</th>\n",
       "      <th>Age</th>\n",
       "      <th>Session_Duration</th>\n",
       "    </tr>\n",
       "    <tr>\n",
       "      <th>Theme</th>\n",
       "      <th></th>\n",
       "      <th></th>\n",
       "      <th></th>\n",
       "      <th></th>\n",
       "      <th></th>\n",
       "      <th></th>\n",
       "    </tr>\n",
       "  </thead>\n",
       "  <tbody>\n",
       "    <tr>\n",
       "      <th>Dark Theme</th>\n",
       "      <td>0.264501</td>\n",
       "      <td>0.251282</td>\n",
       "      <td>0.512115</td>\n",
       "      <td>49.926404</td>\n",
       "      <td>41.332685</td>\n",
       "      <td>919.482490</td>\n",
       "    </tr>\n",
       "    <tr>\n",
       "      <th>Light Theme</th>\n",
       "      <td>0.247109</td>\n",
       "      <td>0.255459</td>\n",
       "      <td>0.499035</td>\n",
       "      <td>50.735232</td>\n",
       "      <td>41.734568</td>\n",
       "      <td>930.833333</td>\n",
       "    </tr>\n",
       "  </tbody>\n",
       "</table>\n",
       "</div>"
      ],
      "text/plain": [
       "             Click Through Rate  Conversion Rate  Bounce Rate  Scroll_Depth  \\\n",
       "Theme                                                                         \n",
       "Dark Theme             0.264501         0.251282     0.512115     49.926404   \n",
       "Light Theme            0.247109         0.255459     0.499035     50.735232   \n",
       "\n",
       "                   Age  Session_Duration  \n",
       "Theme                                     \n",
       "Dark Theme   41.332685        919.482490  \n",
       "Light Theme  41.734568        930.833333  "
      ]
     },
     "execution_count": 10,
     "metadata": {},
     "output_type": "execute_result"
    }
   ],
   "source": [
    "theme_performance"
   ]
  },
  {
   "cell_type": "code",
   "execution_count": 11,
   "id": "08e8c2bc",
   "metadata": {},
   "outputs": [],
   "source": [
    "theme_performance_sorted = theme_performance.sort_values(by='Conversion Rate', ascending=False)"
   ]
  },
  {
   "cell_type": "code",
   "execution_count": 13,
   "id": "fc767707",
   "metadata": {},
   "outputs": [
    {
     "data": {
      "text/html": [
       "<div>\n",
       "<style scoped>\n",
       "    .dataframe tbody tr th:only-of-type {\n",
       "        vertical-align: middle;\n",
       "    }\n",
       "\n",
       "    .dataframe tbody tr th {\n",
       "        vertical-align: top;\n",
       "    }\n",
       "\n",
       "    .dataframe thead th {\n",
       "        text-align: right;\n",
       "    }\n",
       "</style>\n",
       "<table border=\"1\" class=\"dataframe\">\n",
       "  <thead>\n",
       "    <tr style=\"text-align: right;\">\n",
       "      <th></th>\n",
       "      <th>Click Through Rate</th>\n",
       "      <th>Conversion Rate</th>\n",
       "      <th>Bounce Rate</th>\n",
       "      <th>Scroll_Depth</th>\n",
       "      <th>Age</th>\n",
       "      <th>Session_Duration</th>\n",
       "    </tr>\n",
       "    <tr>\n",
       "      <th>Theme</th>\n",
       "      <th></th>\n",
       "      <th></th>\n",
       "      <th></th>\n",
       "      <th></th>\n",
       "      <th></th>\n",
       "      <th></th>\n",
       "    </tr>\n",
       "  </thead>\n",
       "  <tbody>\n",
       "    <tr>\n",
       "      <th>Light Theme</th>\n",
       "      <td>0.247109</td>\n",
       "      <td>0.255459</td>\n",
       "      <td>0.499035</td>\n",
       "      <td>50.735232</td>\n",
       "      <td>41.734568</td>\n",
       "      <td>930.833333</td>\n",
       "    </tr>\n",
       "    <tr>\n",
       "      <th>Dark Theme</th>\n",
       "      <td>0.264501</td>\n",
       "      <td>0.251282</td>\n",
       "      <td>0.512115</td>\n",
       "      <td>49.926404</td>\n",
       "      <td>41.332685</td>\n",
       "      <td>919.482490</td>\n",
       "    </tr>\n",
       "  </tbody>\n",
       "</table>\n",
       "</div>"
      ],
      "text/plain": [
       "             Click Through Rate  Conversion Rate  Bounce Rate  Scroll_Depth  \\\n",
       "Theme                                                                         \n",
       "Light Theme            0.247109         0.255459     0.499035     50.735232   \n",
       "Dark Theme             0.264501         0.251282     0.512115     49.926404   \n",
       "\n",
       "                   Age  Session_Duration  \n",
       "Theme                                     \n",
       "Light Theme  41.734568        930.833333  \n",
       "Dark Theme   41.332685        919.482490  "
      ]
     },
     "execution_count": 13,
     "metadata": {},
     "output_type": "execute_result"
    }
   ],
   "source": [
    "theme_performance_sorted"
   ]
  },
  {
   "cell_type": "code",
   "execution_count": 14,
   "id": "074084f4",
   "metadata": {},
   "outputs": [],
   "source": [
    "conversion_rates_light = df[df['Theme'] == 'Light Theme']['Conversion Rate']\n",
    "conversion_rates_dark = df[df['Theme'] == 'Dark Theme']['Conversion Rate']\n"
   ]
  },
  {
   "cell_type": "code",
   "execution_count": 15,
   "id": "3f30310e",
   "metadata": {},
   "outputs": [
    {
     "data": {
      "text/plain": [
       "(0.4748494462782632, 0.6349982678451778)"
      ]
     },
     "execution_count": 15,
     "metadata": {},
     "output_type": "execute_result"
    }
   ],
   "source": [
    "t_stat, p_value = ttest_ind(conversion_rates_light, conversion_rates_dark, equal_var=False)\n",
    "\n",
    "t_stat, p_value"
   ]
  },
  {
   "cell_type": "code",
   "execution_count": 17,
   "id": "697c1cdd",
   "metadata": {},
   "outputs": [
    {
     "data": {
      "text/plain": [
       "(-1.9781708664172253, 0.04818435371010704)"
      ]
     },
     "execution_count": 17,
     "metadata": {},
     "output_type": "execute_result"
    }
   ],
   "source": [
    "ctr_light = df[df['Theme'] == 'Light Theme']['Click Through Rate']\n",
    "ctr_dark = df[df['Theme'] == 'Dark Theme']['Click Through Rate']\n",
    "\n",
    "t_stat_ctr, p_value_ctr = ttest_ind(ctr_light, ctr_dark, equal_var=False)\n",
    "\n",
    "t_stat_ctr, p_value_ctr"
   ]
  },
  {
   "cell_type": "code",
   "execution_count": 18,
   "id": "de93d631",
   "metadata": {},
   "outputs": [],
   "source": [
    "bounce_rates_light = df[df['Theme'] == 'Light Theme']['Bounce Rate']\n",
    "bounce_rates_dark = df[df['Theme'] == 'Dark Theme']['Bounce Rate']"
   ]
  },
  {
   "cell_type": "code",
   "execution_count": 19,
   "id": "822eaf8b",
   "metadata": {},
   "outputs": [],
   "source": [
    "t_stat_bounce, p_value_bounce = ttest_ind(bounce_rates_light, bounce_rates_dark, equal_var=False)"
   ]
  },
  {
   "cell_type": "code",
   "execution_count": 20,
   "id": "dd5f8dce",
   "metadata": {},
   "outputs": [],
   "source": [
    "scroll_depth_light = df[df['Theme'] == 'Light Theme']['Scroll_Depth']\n",
    "scroll_depth_dark = df[df['Theme'] == 'Dark Theme']['Scroll_Depth']\n"
   ]
  },
  {
   "cell_type": "code",
   "execution_count": 21,
   "id": "edb27562",
   "metadata": {},
   "outputs": [],
   "source": [
    "t_stat_scroll, p_value_scroll = ttest_ind(scroll_depth_light, scroll_depth_dark, equal_var=False)"
   ]
  },
  {
   "cell_type": "code",
   "execution_count": 22,
   "id": "e39b0aeb",
   "metadata": {},
   "outputs": [],
   "source": [
    "comparison_table = pd.DataFrame({\n",
    "    'Metric': ['Click Through Rate', 'Conversion Rate', 'Bounce Rate', 'Scroll Depth'],\n",
    "    'T-Statistic': [t_stat_ctr, t_stat, t_stat_bounce, t_stat_scroll],\n",
    "    'P-Value': [p_value_ctr, p_value, p_value_bounce, p_value_scroll]\n",
    "})"
   ]
  },
  {
   "cell_type": "code",
   "execution_count": 24,
   "id": "146c33fa",
   "metadata": {},
   "outputs": [
    {
     "data": {
      "text/html": [
       "<div>\n",
       "<style scoped>\n",
       "    .dataframe tbody tr th:only-of-type {\n",
       "        vertical-align: middle;\n",
       "    }\n",
       "\n",
       "    .dataframe tbody tr th {\n",
       "        vertical-align: top;\n",
       "    }\n",
       "\n",
       "    .dataframe thead th {\n",
       "        text-align: right;\n",
       "    }\n",
       "</style>\n",
       "<table border=\"1\" class=\"dataframe\">\n",
       "  <thead>\n",
       "    <tr style=\"text-align: right;\">\n",
       "      <th></th>\n",
       "      <th>Metric</th>\n",
       "      <th>T-Statistic</th>\n",
       "      <th>P-Value</th>\n",
       "    </tr>\n",
       "  </thead>\n",
       "  <tbody>\n",
       "    <tr>\n",
       "      <th>0</th>\n",
       "      <td>Click Through Rate</td>\n",
       "      <td>-1.978171</td>\n",
       "      <td>0.048184</td>\n",
       "    </tr>\n",
       "    <tr>\n",
       "      <th>1</th>\n",
       "      <td>Conversion Rate</td>\n",
       "      <td>0.474849</td>\n",
       "      <td>0.634998</td>\n",
       "    </tr>\n",
       "    <tr>\n",
       "      <th>2</th>\n",
       "      <td>Bounce Rate</td>\n",
       "      <td>-1.201888</td>\n",
       "      <td>0.229692</td>\n",
       "    </tr>\n",
       "    <tr>\n",
       "      <th>3</th>\n",
       "      <td>Scroll Depth</td>\n",
       "      <td>0.756228</td>\n",
       "      <td>0.449692</td>\n",
       "    </tr>\n",
       "  </tbody>\n",
       "</table>\n",
       "</div>"
      ],
      "text/plain": [
       "               Metric  T-Statistic   P-Value\n",
       "0  Click Through Rate    -1.978171  0.048184\n",
       "1     Conversion Rate     0.474849  0.634998\n",
       "2         Bounce Rate    -1.201888  0.229692\n",
       "3        Scroll Depth     0.756228  0.449692"
      ]
     },
     "execution_count": 24,
     "metadata": {},
     "output_type": "execute_result"
    }
   ],
   "source": [
    "comparison_table"
   ]
  },
  {
   "cell_type": "code",
   "execution_count": null,
   "id": "d1b0c02e",
   "metadata": {},
   "outputs": [],
   "source": []
  }
 ],
 "metadata": {
  "kernelspec": {
   "display_name": "Python 3 (ipykernel)",
   "language": "python",
   "name": "python3"
  },
  "language_info": {
   "codemirror_mode": {
    "name": "ipython",
    "version": 3
   },
   "file_extension": ".py",
   "mimetype": "text/x-python",
   "name": "python",
   "nbconvert_exporter": "python",
   "pygments_lexer": "ipython3",
   "version": "3.10.13"
  }
 },
 "nbformat": 4,
 "nbformat_minor": 5
}
